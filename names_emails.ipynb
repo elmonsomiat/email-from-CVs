{
 "cells": [
  {
   "cell_type": "code",
   "execution_count": null,
   "metadata": {
    "collapsed": true
   },
   "outputs": [],
   "source": [
    "import docx #install python-docx\n",
    "import PyPDF2\n",
    "import re\n",
    "import textract\n",
    "import os, sys\n",
    "import pandas as pd\n",
    "\n",
    "#NOTE: must install antiword"
   ]
  },
  {
   "cell_type": "code",
   "execution_count": null,
   "metadata": {
    "collapsed": true
   },
   "outputs": [],
   "source": [
    "# read files in directory\n",
    "path = \"/pathtofile/\"\n",
    "dirs = os.listdir( path )"
   ]
  },
  {
   "cell_type": "markdown",
   "metadata": {
    "collapsed": false
   },
   "source": [
    "Get the emails from each file"
   ]
  },
  {
   "cell_type": "code",
   "execution_count": null,
   "metadata": {
    "collapsed": false
   },
   "outputs": [],
   "source": [
    "#extract all the email addressess\n",
    "emails = []\n",
    "for i in dirs:\n",
    "    text = textract.process(path+i)\n",
    "    email_address = re.search('[\\w\\.-]+@[\\w\\.-]+',text.decode(\"utf-8\"))\n",
    "    if email_address == None:\n",
    "        emails.append('-')\n",
    "    else:\n",
    "        emails.append(email_address.group(0))"
   ]
  },
  {
   "cell_type": "markdown",
   "metadata": {},
   "source": [
    "Get the name of the file as the name of the owner of the document"
   ]
  },
  {
   "cell_type": "code",
   "execution_count": null,
   "metadata": {
    "collapsed": true
   },
   "outputs": [],
   "source": [
    "names = [os.path.splitext(x)[0] for x in dirs]\n",
    "df_names_emails = pd.DataFrame({'name':names,'email':emails},columns=['name','email'])\n",
    "df_names_emails = df_names_emails.set_index('name')"
   ]
  },
  {
   "cell_type": "markdown",
   "metadata": {},
   "source": [
    "Store in file"
   ]
  },
  {
   "cell_type": "code",
   "execution_count": null,
   "metadata": {
    "collapsed": true
   },
   "outputs": [],
   "source": [
    "writer3 = pd.ExcelWriter(path+'/emails.xlsx',engine='xlsxwriter',date_format='dd mmmm yyyy')\n",
    "df_names_emails.to_excel(writer3)\n",
    "writer3.save()\n",
    "writer3.close()\n",
    " "
   ]
  }
 ],
 "metadata": {
  "kernelspec": {
   "display_name": "Python 3",
   "language": "python",
   "name": "python3"
  },
  "language_info": {
   "codemirror_mode": {
    "name": "ipython",
    "version": 3
   },
   "file_extension": ".py",
   "mimetype": "text/x-python",
   "name": "python",
   "nbconvert_exporter": "python",
   "pygments_lexer": "ipython3",
   "version": "3.6.0"
  }
 },
 "nbformat": 4,
 "nbformat_minor": 2
}
